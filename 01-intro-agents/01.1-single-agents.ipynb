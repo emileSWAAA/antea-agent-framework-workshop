{
 "cells": [
  {
   "cell_type": "markdown",
   "id": "55c068c7",
   "metadata": {},
   "source": [
    "Introduction to Microsoft Agent Framework\n",
    "\n",
    "topics of the SK 2.1:\n",
    "1. One simple agent - done\n",
    "2. Dynamic agent instructions with template parameters - irrelevant (??)\n",
    "3. Multi-Turn Conversations\n",
    "4. EX1 - Simple Question-Answering Agent\n",
    "5. Length of chat history in check\n",
    "6. Function calling and plugins\n",
    "7. Plugin example for agent\n",
    "8. What happened in the background - function invocation setup\n",
    "9. function calling modes\n",
    "10. EX2 - create your own plugin\n",
    "11. agent that generates creative content and how streaming works \n",
    "12. static error handling\n",
    "\n",
    "for AF - dynamic agent creation?? profiles and roles?? state management?? workflows??"
   ]
  },
  {
   "cell_type": "markdown",
   "id": "876825f9",
   "metadata": {},
   "source": [
    "### Our first Agent\n",
    "\n",
    "Now, let's build an single agent to get started. First, create a chat client for communicating with Azure OpenAI:\n",
    "\n",
    "```\n",
    "AZURE_OPENAI_ENDPOINT - The endpoint it should talk to by default\n",
    "AZURE_OPENAI_API_KEY - The API Key it should use\n",
    "AZURE_OPENAI_API_VERSION - Inference API version it should use per default\n",
    "AZURE_OPENAI_CHAT_DEPLOYMENT_NAME - Model deployment name it should use per default\n",
    "AZURE_OPENAI_EMBEDDING_DEPLOYMENT_NAME - Embedding deployment name it should use per default\n",
    "```"
   ]
  },
  {
   "cell_type": "code",
   "execution_count": null,
   "id": "1a1a0595",
   "metadata": {},
   "outputs": [],
   "source": [
    "import os\n",
    "from dotenv import load_dotenv\n",
    "from agent_framework.azure import AzureOpenAIChatClient\n",
    "\n",
    "# Load environment variables\n",
    "load_dotenv()\n",
    "\n",
    "endpoint = os.getenv(\"AZURE_OPENAI_ENDPOINT\")\n",
    "api_key = os.getenv(\"AZURE_OPENAI_API_KEY\")\n",
    "api_version = os.getenv(\"AZURE_OPENAI_API_VERSION\")\n",
    "deployment = os.getenv(\"AZURE_OPENAI_CHAT_DEPLOYMENT_NAME\")\n",
    "\n",
    "# Create the client using API key\n",
    "client = AzureOpenAIChatClient(\n",
    "    endpoint=endpoint,\n",
    "    api_key=api_key,\n",
    "    api_version=api_version,\n",
    "    deployment_name=deployment\n",
    ")"
   ]
  },
  {
   "cell_type": "markdown",
   "id": "ce9c6a59",
   "metadata": {},
   "source": [
    "Then, create the agent, providing instructions and a name for the agent. To run the agent, call the `.run()` method on the agent instance, providing the user input. \n",
    "\n",
    "The agent will return a response object, and accessing the .text property provides the text result from the agent.\n",
    "\n",
    "Please note that we do not have an chat history, so every message we send to the agent is treated as a new conversation."
   ]
  },
  {
   "cell_type": "code",
   "execution_count": null,
   "id": "d2b71d7f",
   "metadata": {},
   "outputs": [
    {
     "name": "stdout",
     "output_type": "stream",
     "text": [
      "The capital of Latvia is Riga.\n"
     ]
    }
   ],
   "source": [
    "simple_agent = client.create_agent(\n",
    "    instructions=\"You are an AI assistant that helps users with their questions.\",\n",
    "    name=\"AI Assistant\"\n",
    ")\n",
    "\n",
    "response = await simple_agent.run(\"What's the capital of Latvia?\")\n",
    "print(response.text)\n"
   ]
  },
  {
   "cell_type": "markdown",
   "id": "91396922",
   "metadata": {},
   "source": [
    "### Enabling Multi-Turn Conversations\n",
    "\n",
    "Agents are stateless and do not maintain any state internally between calls. To have a multi-turn conversation with an agent, you need to create an object to hold the conversation state and pass this object to the agent when running it.\n",
    "\n",
    "An AgentThread maintains the conversation state and message history for an agent interaction. It can either use a service-managed thread (via service_thread_id) or a local message store (via message_store), but not both.\n",
    "\n",
    "To initialize an AgentThread, call the `get_new_thread()` method on the agent instance.\n",
    "\n",
    "You can then pass this thread object to the run and run_stream methods on the agent instance, along with the user input.\n",
    "\n",
    "\n"
   ]
  },
  {
   "cell_type": "code",
   "execution_count": null,
   "id": "29461187",
   "metadata": {},
   "outputs": [
    {
     "name": "stdout",
     "output_type": "stream",
     "text": [
      "*** User: Hello!\n",
      "*** Agent: Hello! How can I assist you today?\n",
      "*** User: Which country has Paris as the capital?\n",
      "*** Agent: Paris is the capital of France. If you have any more questions about France or anything else, feel free to ask!\n",
      "*** User: What are its neighbouring countries? Give a short one-liner list, please.\n",
      "*** Agent: France shares its borders with the following neighboring countries:\n",
      "\n",
      "1. Belgium\n",
      "2. Luxembourg\n",
      "3. Germany\n",
      "4. Switzerland\n",
      "5. Italy\n",
      "6. Monaco\n",
      "7. Spain\n",
      "8. Andorra\n",
      "9. Brazil (via French Guiana)\n",
      "10. Suriname (via French Guiana)\n",
      "\n",
      "Let me know if you need more information!\n",
      "-------------------------\n",
      "[user] Hello!\n",
      "[assistant] Hello! How can I assist you today?\n",
      "[user] Which country has Paris as the capital?\n",
      "[assistant] Paris is the capital of France. If you have any more questions about France or anything else, feel free to ask!\n",
      "[user] What are its neighbouring countries? Give a short one-liner list, please.\n",
      "[assistant] France shares its borders with the following neighboring countries:\n",
      "\n",
      "1. Belgium\n",
      "2. Luxembourg\n",
      "3. Germany\n",
      "4. Switzerland\n",
      "5. Italy\n",
      "6. Monaco\n",
      "7. Spain\n",
      "8. Andorra\n",
      "9. Brazil (via French Guiana)\n",
      "10. Suriname (via French Guiana)\n",
      "\n",
      "Let me know if you need more information!\n"
     ]
    }
   ],
   "source": [
    "agent = client.create_agent(\n",
    "    instructions=\"You are an AI assistant that helps users with their questions.\",\n",
    "    name=\"AI Assistant\"\n",
    ")\n",
    "\n",
    "# create a thread on the agent instance:\n",
    "thread = agent.get_new_thread()\n",
    "\n",
    "user_messages = [\n",
    "    \"Hello!\",\n",
    "    \"Which country has Paris as the capital?\",\n",
    "    \"What are its neighbouring countries? Give a short one-liner list, please.\"\n",
    "]\n",
    "\n",
    "# Loop through user messages and maintain context\n",
    "for user_message in user_messages:\n",
    "    print(\"*** User:\", user_message)\n",
    "    \n",
    "    # get response from the agent, passing the same thread\n",
    "    response = await agent.run(user_message, thread=thread)\n",
    "    print(\"*** Agent:\", response.text)\n",
    "\n",
    "print(\"-\" * 25)\n",
    "\n",
    "# Print the final conversation history from the thread\n",
    "messages = await thread.message_store.list_messages()\n",
    "for msg in messages:\n",
    "    print(f\"[{msg.role}] {msg.text}\")\n"
   ]
  },
  {
   "cell_type": "markdown",
   "id": "24686014",
   "metadata": {},
   "source": [
    "### Single agent with multiple conversations\n",
    "\n",
    "It is possible to have multiple, independent conversations with the same agent instance, by creating multiple `AgentThread` objects. These threads can then be used to maintain separate conversation states for each conversation. The conversations will be fully independent of each other, since the agent does not maintain any state internally."
   ]
  },
  {
   "cell_type": "code",
   "execution_count": null,
   "id": "996457e6",
   "metadata": {},
   "outputs": [
    {
     "name": "stdout",
     "output_type": "stream",
     "text": [
      "Thread 1: Visit the Eiffel Tower for iconic views of the city and a quintessential Parisian experience.\n",
      "Thread 2: Visit the Sensō-ji Temple in Asakusa, Tokyo's oldest temple, known for its historic architecture, vibrant shopping street (Nakamise-dori), and cultural significance.\n",
      "Thread 1: Stroll through the charming streets of Montmartre and enjoy a coffee at a local café.\n",
      "Thread 2: Take a stroll through the tranquil Shinjuku Gyoen National Garden for a peaceful start to your day.\n"
     ]
    }
   ],
   "source": [
    "# Create two threads for two separate conversations\n",
    "thread1 = agent.get_new_thread()\n",
    "thread2 = agent.get_new_thread()\n",
    "\n",
    "# First messages for each thread\n",
    "result1 = await agent.run(\"Suggest 1 key attraction for Paris trip. Keep it brief.\", thread=thread1)\n",
    "print(\"Thread 1:\", result1.text)\n",
    "\n",
    "result2 = await agent.run(\"Suggest 1 key attraction for Tokyo trip. Keep it brief.\", thread=thread2)\n",
    "print(\"Thread 2:\", result2.text)\n",
    "\n",
    "# Continue each conversation independently\n",
    "result3 = await agent.run(\n",
    "    \"Now suggest one morning activity. One short sentence.\",\n",
    "    thread=thread1\n",
    ")\n",
    "print(\"Thread 1:\", result3.text)\n",
    "\n",
    "result4 = await agent.run(\n",
    "    \"Now suggest one morning activity. One short sentence.\",\n",
    "    thread=thread2\n",
    ")\n",
    "print(\"Thread 2:\", result4.text)\n"
   ]
  }
 ],
 "metadata": {
  "kernelspec": {
   "display_name": "agent-framework-workshop",
   "language": "python",
   "name": "python3"
  },
  "language_info": {
   "codemirror_mode": {
    "name": "ipython",
    "version": 3
   },
   "file_extension": ".py",
   "mimetype": "text/x-python",
   "name": "python",
   "nbconvert_exporter": "python",
   "pygments_lexer": "ipython3",
   "version": "3.12.12"
  }
 },
 "nbformat": 4,
 "nbformat_minor": 5
}
