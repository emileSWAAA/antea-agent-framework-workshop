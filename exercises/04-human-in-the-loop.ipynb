{
 "cells": [
  {
   "cell_type": "markdown",
   "id": "bad29fbb",
   "metadata": {},
   "source": []
  },
  {
   "cell_type": "code",
   "execution_count": null,
   "id": "4bf10607",
   "metadata": {},
   "outputs": [],
   "source": []
  }
 ],
 "metadata": {
  "language_info": {
   "name": "python"
  }
 },
 "nbformat": 4,
 "nbformat_minor": 5
}
