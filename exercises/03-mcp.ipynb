{
 "cells": [
  {
   "cell_type": "markdown",
   "id": "0b598e93",
   "metadata": {},
   "source": [
    "# Using Agent Framework with MCP Servers\n",
    "\n",
    "The Microsoft Agent Framework supports integration with Model Context Protocol (MCP) servers, allowing your agents to access external tools and services. This exercise shows how to connect to an MCP server and use its tools within your agent.\n",
    "\n",
    "The Python Agent Framework provides comprehensive support for integrating with Model Context Protocol (MCP) servers through multiple connection types. This allows your agents to access external tools and services seamlessly.\n",
    "\n",
    "Let's start by initialising our `chat_client`"
   ]
  },
  {
   "cell_type": "code",
   "execution_count": 22,
   "id": "d3c65b71",
   "metadata": {},
   "outputs": [],
   "source": [
    "import os\n",
    "from dotenv import load_dotenv\n",
    "from agent_framework.azure import AzureOpenAIChatClient\n",
    "\n",
    "# Load environment variables\n",
    "load_dotenv()\n",
    "\n",
    "endpoint = os.getenv(\"AZURE_OPENAI_ENDPOINT\")\n",
    "api_key = os.getenv(\"AZURE_OPENAI_API_KEY\")\n",
    "api_version = os.getenv(\"AZURE_OPENAI_API_VERSION\")\n",
    "deployment = os.getenv(\"AZURE_OPENAI_CHAT_DEPLOYMENT_NAME\")\n",
    "\n",
    "# Create the client using API key\n",
    "client = AzureOpenAIChatClient(\n",
    "    endpoint=endpoint,\n",
    "    api_key=api_key,\n",
    "    api_version=api_version,\n",
    "    deployment_name=deployment\n",
    ")"
   ]
  },
  {
   "cell_type": "markdown",
   "id": "af91c0af",
   "metadata": {},
   "source": [
    "--- \n",
    "Perfect. All setup.\n",
    "\n",
    "Check the following code snippet to see how can we connect to the Microsoft Learn MCP Server.\n",
    "Your task is to create an agent that is able to call the MCP server and get up-to-date information of a certain Microsoft product."
   ]
  },
  {
   "cell_type": "code",
   "execution_count": null,
   "id": "00934b29",
   "metadata": {},
   "outputs": [],
   "source": [
    "from agent_framework import ChatAgent, MCPStreamableHTTPTool\n",
    "from agent_framework.azure import AzureAIAgentClient\n",
    "from azure.identity.aio import AzureCliCredential\n",
    "\n",
    "async with (\n",
    "    AzureCliCredential() as credential,\n",
    "    MCPStreamableHTTPTool(\n",
    "        name=\"Microsoft Learn MCP\",\n",
    "        url=\"https://learn.microsoft.com/api/mcp\",\n",
    "        chat_client=client\n",
    "    ) as mcp_server,\n",
    "    ChatAgent(\n",
    "        # Add your agent parameters and instructions here\n",
    "    ) as agent,\n",
    "):\n",
    "    result = await agent.run(\n",
    "        # Add your question and mcp_server here\n",
    "        \n",
    "    )\n",
    "    print(result)\n"
   ]
  },
  {
   "cell_type": "markdown",
   "id": "325c4ee1",
   "metadata": {},
   "source": [
    "---\n",
    "<details>\n",
    "<summary>💡 Solution</summary>\n",
    "```python\n",
    "import asyncio\n",
    "from agent_framework import ChatAgent, MCPStreamableHTTPTool\n",
    "from agent_framework.azure import AzureAIAgentClient\n",
    "from azure.identity.aio import AzureCliCredential\n",
    "\n",
    "async with (\n",
    "    AzureCliCredential() as credential,\n",
    "    MCPStreamableHTTPTool(\n",
    "        name=\"Microsoft Learn MCP\",\n",
    "        url=\"http://localhost:8000/sse\",\n",
    "        chat_client=client\n",
    "    ) as mcp_server,\n",
    "    ChatAgent(\n",
    "        chat_client=client,\n",
    "        name=\"DocsAgent\",\n",
    "        instructions=\"You help with Microsoft documentation questions.\",\n",
    "    ) as agent,\n",
    "):\n",
    "    result = await agent.run(\n",
    "        \"How to create an Azure storage account using az cli?\",\n",
    "        tools=mcp_server\n",
    "    )\n",
    "    print(result)\n",
    "```\n",
    "</details>"
   ]
  },
  {
   "cell_type": "markdown",
   "id": "77c6d46d",
   "metadata": {},
   "source": [
    "---\n",
    "\n",
    "Nice, we have connected to the Microsoft Learn MCP server. Useful when GitHub Copilot needs to dig deeper into Microsoft documentation to provide you with actual and relevant information.\n",
    "However, we are also able to setup our own MCP servers.\n",
    "\n",
    "In this workshop we have provided an out-of-the-box MCP server, built using FastMCP. To run the MCP server, open your terminal and run the following commands:\n",
    "\n",
    "- ```cd ../mcp```\n",
    "- ```uv run --prerelease=allow mcp_server.py```\n",
    "\n",
    "\n",
    "The MCP server will start running and output the address like so:\n",
    "\n",
    "```\n",
    "INFO      Starting MCP server 'Contoso Customer API as Tools' with transport 'http' on http://127.0.0.1:8000/mcp     \n",
    "INFO:     Started server process [36000]\n",
    "INFO:     Waiting for application startup.\n",
    "INFO:     Application startup complete.\n",
    "INFO:     Uvicorn running on http://127.0.0.1:8000 (Press CTRL+C to quit)\n",
    "```\n",
    "\n",
    "Now try to access the local MCP server and output the name of the MCP server."
   ]
  },
  {
   "cell_type": "code",
   "execution_count": null,
   "id": "52d0a975",
   "metadata": {},
   "outputs": [],
   "source": [
    "from agent_framework import MCPStreamableHTTPTool\n",
    "\n",
    "async with MCPStreamableHTTPTool()"
   ]
  },
  {
   "cell_type": "markdown",
   "id": "a14f1dee",
   "metadata": {},
   "source": [
    "<details>\n",
    "<summary>💡 Solution</summary>\n",
    "\n",
    "```python\n",
    "from agent_framework import MCPStreamableHTTPTool\n",
    "\n",
    "async with MCPStreamableHTTPTool(\n",
    "    name=\"ContosoMCP\",\n",
    "    url=\"http://127.0.0.1:8000/mcp\",\n",
    "    timeout=60,\n",
    "    chat_client=client\n",
    ") as contoso_mcp_tool:\n",
    "    print(\"MCP tool connected successfully\")\n",
    "    print(f\"MCP Tool name: {contoso_mcp_tool.name}\")\n",
    "\n",
    "```\n",
    "</details>"
   ]
  },
  {
   "cell_type": "markdown",
   "id": "80978be0",
   "metadata": {},
   "source": [
    "---\n",
    "\n",
    "Great, you have connected to the local MCP server.\n",
    "The next goal is to create a customer service agent that uses the local MCP server to look up customer data.\n",
    "\n",
    "**Your Task**:\n",
    "1. Connect to the ContosoMCP server at `http://127.0.0.1:8000/mcp`\n",
    "2. Create a ChatAgent with customer service instructions\n",
    "3. Add the MCP server as a tool to the agent\n",
    "4. Test with: \"Look up customer details for customer ID 2\"\n",
    "\n",
    "**Hint**: Use nested `async with` blocks - MCP tool first, then ChatAgent.\n",
    "\n",
    "---"
   ]
  },
  {
   "cell_type": "code",
   "execution_count": null,
   "id": "74dd141c",
   "metadata": {},
   "outputs": [],
   "source": [
    "from agent_framework import ChatAgent, MCPStreamableHTTPTool\n",
    "\n",
    "async with MCPStreamableHTTPTool(\n",
    "    \n",
    "    ) as contoso_mcp_tool:"
   ]
  },
  {
   "cell_type": "markdown",
   "id": "621bcc38",
   "metadata": {},
   "source": [
    "---\n",
    "<details>\n",
    "<summary>💡 Solution</summary>\n",
    "\n",
    "```python\n",
    "from agent_framework import ChatAgent, MCPStreamableHTTPTool\n",
    "\n",
    "async with MCPStreamableHTTPTool(\n",
    "    name=\"ContosoMCP\",\n",
    "    url=\"http://127.0.0.1:8000/mcp\",\n",
    "    timeout=60,\n",
    "    chat_client=client\n",
    ") as contoso_mcp_tool:\n",
    "    \n",
    "    async with ChatAgent(\n",
    "        chat_client=client,\n",
    "        name=\"TestBot\", \n",
    "        instructions=\"You are a customer service agent. Use the available tools to help customers. \"\n",
    "        \"Always try to use the customer lookup tools when given a customer ID.\",\n",
    "    ) as agent:\n",
    "        \n",
    "        print(\"Testing simple customer lookup...\")\n",
    "        response = await agent.run(\n",
    "            messages=\"Look up customer details for customer ID 2\",\n",
    "            tools=contoso_mcp_tool\n",
    "        )\n",
    "        \n",
    "        print(\"Response:\", response.text)\n",
    "```\n",
    "\n",
    "</details>"
   ]
  }
 ],
 "metadata": {
  "kernelspec": {
   "display_name": "Python 3",
   "language": "python",
   "name": "python3"
  },
  "language_info": {
   "codemirror_mode": {
    "name": "ipython",
    "version": 3
   },
   "file_extension": ".py",
   "mimetype": "text/x-python",
   "name": "python",
   "nbconvert_exporter": "python",
   "pygments_lexer": "ipython3",
   "version": "3.12.10"
  }
 },
 "nbformat": 4,
 "nbformat_minor": 5
}
